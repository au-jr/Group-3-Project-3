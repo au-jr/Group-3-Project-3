{
 "cells": [
  {
   "cell_type": "code",
   "execution_count": 1,
   "id": "223a0cd8-6168-4067-a33b-25151b643a0f",
   "metadata": {},
   "outputs": [],
   "source": [
    "import pandas as pd\n",
    "import numpy as np"
   ]
  },
  {
   "cell_type": "code",
   "execution_count": 2,
   "id": "5a642b43-614b-49b9-95b5-306353e695a0",
   "metadata": {},
   "outputs": [],
   "source": [
    "# import the library of geopandas to make geojson file for making map\n",
    "import geopandas as gpd"
   ]
  },
  {
   "cell_type": "code",
   "execution_count": 3,
   "id": "9b701a63-87b8-49b0-970c-25327b06291a",
   "metadata": {},
   "outputs": [],
   "source": [
    "# Load the CSV files from raw data\n",
    "# data of CO₂ emissions per capita Consumption based, tonnes per capita\n",
    "per_emissions_df = pd.read_csv(\"data/raw_data/co2_pcap_cons.csv\")\n",
    "\n",
    "# data of total CO2 emission\n",
    "total_emissions_df = pd.read_csv(\"data/raw_data/co2_cons.csv\")\n",
    "\n",
    "#data of population\n",
    "population_df = pd.read_csv(\"data/raw_data/pop.csv\")"
   ]
  },
  {
   "cell_type": "code",
   "execution_count": 4,
   "id": "f37fc380-7902-444f-ab6c-19917fc9a1fe",
   "metadata": {},
   "outputs": [],
   "source": [
    "#Define the year range we are analysising \n",
    "start_year = 2000\n",
    "end_year = 2019\n",
    "\n",
    "#Generate the year columns using numpy\n",
    "#Generate an array of years and convert to string\n",
    "years = np.arange(start_year, end_year + 1).astype(str)\n",
    "\n",
    "#Filiter the coloumn from 2000 to 2019\n",
    "filtered_peremission_df = per_emissions_df.loc[:, per_emissions_df.columns.isin(np.append('country', years))]\n",
    "filtered_totalemission_df = total_emissions_df.loc[:, total_emissions_df.columns.isin(np.append('country', years))]\n",
    "filtered_population_df = population_df.loc[:, population_df.columns.isin(np.append('country', years))]\n"
   ]
  },
  {
   "cell_type": "code",
   "execution_count": 5,
   "id": "075f20d5-fc5f-4da3-bbb3-d4c5fcb2e538",
   "metadata": {},
   "outputs": [],
   "source": [
    "#Melt each DataFrame to long format, it was wide format\n",
    "new_per_emissions = filtered_peremission_df.melt(id_vars= ['country'], var_name ='year', value_name= 'CO2 emissions per capita')\n",
    "new_total_emissions = filtered_totalemission_df.melt(id_vars=['country'], var_name='year', value_name='CO2 total emission')\n",
    "new_population = filtered_population_df.melt(id_vars=['country'], var_name='year', value_name='population')\n",
    "\n",
    "#Merge the long-format DataFrames\n",
    "merged_df = new_per_emissions.merge(new_total_emissions, on=['country', 'year'], how='inner')\n",
    "merged_df = merged_df.merge(new_population, on=['country', 'year'], how='inner')\n",
    "\n",
    "#Name need to change\n",
    "name_mapping = {\n",
    "    'UAE': 'United Arab Emirates',\n",
    "    'Bahamas': 'The Bahamas',\n",
    "    'Congo, Dem. Rep.': 'Democratic Republic of the Congo',\n",
    "    'Congo, Rep.': 'Republic of the Congo',\n",
    "    'Czech Republic': 'Czechia',\n",
    "    'UK': 'United Kingdom',\n",
    "    'Hong Kong, China': 'Hong Kong S.A.R.',\n",
    "    'Kyrgyz Republic': 'Kyrgyzstan',\n",
    "    'Serbia': 'Republic of Serbia',\n",
    "    'Slovak Republic': 'Slovakia',\n",
    "    'Eswatini': 'eSwatini',\n",
    "    'Tanzania': 'United Republic of Tanzania',\n",
    "    'USA': 'United States of America',\n",
    "    'St. Vincent and the Grenadines': 'Saint Vincent and the Grenadines'\n",
    "}\n",
    "\n",
    "# Standardizing names in merged_df\n",
    "merged_df['country'] = merged_df['country'].replace(name_mapping)\n",
    "\n",
    "\n",
    "#Export CO2 data to JSON\n",
    "merged_df.to_json('data/geo_data/CO2_data.json', orient='records', indent=1)"
   ]
  },
  {
   "cell_type": "code",
   "execution_count": 10,
   "id": "9caaf5a3-276a-4d28-b610-aad57ae00b08",
   "metadata": {},
   "outputs": [],
   "source": [
    "# Imports Polygon and MultiPolygon from shapely for geometric operations.\n",
    "from shapely.geometry import MultiPolygon, Polygon\n",
    "\n",
    "# Load data from Natural Earth to gain geo information\n",
    "gdf = gpd.read_file('data/geo_data/Natural Earth/ne_10m_admin_0_countries.shp')\n",
    "\n",
    "# Rename for the merge\n",
    "gdf.rename(columns={'ADMIN': 'country'}, inplace=True)\n",
    "\n",
    "# Read data from CO2json\n",
    "CO2_df = pd.read_json('data/geo_data/CO2_data.json')\n",
    "\n",
    "# Merge the co2 data with geo data\n",
    "merged_gdf = gdf.merge(CO2_df, on='country', how='inner')\n",
    "\n",
    "# define function to simple the shape, to make small file, beacue the former file was too big\n",
    "def simplify_geometry(geom, tolerance=0.05, preserve_topology=True):\n",
    "    return geom.simplify(tolerance, preserve_topology)\n",
    "\n",
    "# Apply the simplify_geometry function\n",
    "merged_gdf['geometry'] = merged_gdf['geometry'].apply(simplify_geometry)\n",
    "\n",
    "# Keep columns which I want, for making the file to be small\n",
    "gdf_simplified = merged_gdf[['country', 'year', 'CO2 emissions per capita', 'CO2 total emission', 'population', 'geometry']]\n",
    "\n",
    "# Export the geojson file for making choropleth map\n",
    "gdf_simplified.to_file(\"data/geo_data/simplified_geo_data.geojson\", driver='GeoJSON')"
   ]
  },
  {
   "cell_type": "code",
   "execution_count": 11,
   "id": "a4c56551-c99c-4411-a269-87a1709e4e38",
   "metadata": {},
   "outputs": [
    {
     "ename": "DriverError",
     "evalue": "Failed to create GeoJSON datasource: data/geo_data/simplified_geo_data_2000.geojson: data/geo_data/simplified_geo_data_2000.geojson: No such file or directory",
     "output_type": "error",
     "traceback": [
      "\u001b[0;31m---------------------------------------------------------------------------\u001b[0m",
      "\u001b[0;31mCPLE_OpenFailedError\u001b[0m                      Traceback (most recent call last)",
      "File \u001b[0;32mfiona/ogrext.pyx:175\u001b[0m, in \u001b[0;36mfiona.ogrext.gdal_create\u001b[0;34m()\u001b[0m\n",
      "File \u001b[0;32mfiona/_err.pyx:291\u001b[0m, in \u001b[0;36mfiona._err.exc_wrap_pointer\u001b[0;34m()\u001b[0m\n",
      "\u001b[0;31mCPLE_OpenFailedError\u001b[0m: Failed to create GeoJSON datasource: data/geo_data/simplified_geo_data_2000.geojson: data/geo_data/simplified_geo_data_2000.geojson: No such file or directory",
      "\nDuring handling of the above exception, another exception occurred:\n",
      "\u001b[0;31mDriverError\u001b[0m                               Traceback (most recent call last)",
      "Cell \u001b[0;32mIn[11], line 21\u001b[0m\n\u001b[1;32m     19\u001b[0m \u001b[38;5;66;03m# 导出为GeoJSON\u001b[39;00m\n\u001b[1;32m     20\u001b[0m file_name \u001b[38;5;241m=\u001b[39m \u001b[38;5;124mf\u001b[39m\u001b[38;5;124m\"\u001b[39m\u001b[38;5;124mdata/geo_data/simplified_geo_data_\u001b[39m\u001b[38;5;132;01m{\u001b[39;00myear\u001b[38;5;132;01m}\u001b[39;00m\u001b[38;5;124m.geojson\u001b[39m\u001b[38;5;124m\"\u001b[39m\n\u001b[0;32m---> 21\u001b[0m year_gdf\u001b[38;5;241m.\u001b[39mto_file(file_name, driver\u001b[38;5;241m=\u001b[39m\u001b[38;5;124m'\u001b[39m\u001b[38;5;124mGeoJSON\u001b[39m\u001b[38;5;124m'\u001b[39m)\n\u001b[1;32m     23\u001b[0m \u001b[38;5;28mprint\u001b[39m(\u001b[38;5;124mf\u001b[39m\u001b[38;5;124m\"\u001b[39m\u001b[38;5;124mExported \u001b[39m\u001b[38;5;132;01m{\u001b[39;00mfile_name\u001b[38;5;132;01m}\u001b[39;00m\u001b[38;5;124m\"\u001b[39m)\n",
      "File \u001b[0;32m~/anaconda3/lib/python3.11/site-packages/geopandas/geodataframe.py:1246\u001b[0m, in \u001b[0;36mGeoDataFrame.to_file\u001b[0;34m(self, filename, driver, schema, index, **kwargs)\u001b[0m\n\u001b[1;32m   1155\u001b[0m \u001b[38;5;250m\u001b[39m\u001b[38;5;124;03m\"\"\"Write the ``GeoDataFrame`` to a file.\u001b[39;00m\n\u001b[1;32m   1156\u001b[0m \n\u001b[1;32m   1157\u001b[0m \u001b[38;5;124;03mBy default, an ESRI shapefile is written, but any OGR data source\u001b[39;00m\n\u001b[0;32m   (...)\u001b[0m\n\u001b[1;32m   1242\u001b[0m \n\u001b[1;32m   1243\u001b[0m \u001b[38;5;124;03m\"\"\"\u001b[39;00m\n\u001b[1;32m   1244\u001b[0m \u001b[38;5;28;01mfrom\u001b[39;00m \u001b[38;5;21;01mgeopandas\u001b[39;00m\u001b[38;5;21;01m.\u001b[39;00m\u001b[38;5;21;01mio\u001b[39;00m\u001b[38;5;21;01m.\u001b[39;00m\u001b[38;5;21;01mfile\u001b[39;00m \u001b[38;5;28;01mimport\u001b[39;00m _to_file\n\u001b[0;32m-> 1246\u001b[0m _to_file(\u001b[38;5;28mself\u001b[39m, filename, driver, schema, index, \u001b[38;5;241m*\u001b[39m\u001b[38;5;241m*\u001b[39mkwargs)\n",
      "File \u001b[0;32m~/anaconda3/lib/python3.11/site-packages/geopandas/io/file.py:633\u001b[0m, in \u001b[0;36m_to_file\u001b[0;34m(df, filename, driver, schema, index, mode, crs, engine, **kwargs)\u001b[0m\n\u001b[1;32m    630\u001b[0m     \u001b[38;5;28;01mraise\u001b[39;00m \u001b[38;5;167;01mValueError\u001b[39;00m(\u001b[38;5;124mf\u001b[39m\u001b[38;5;124m\"\u001b[39m\u001b[38;5;124m'\u001b[39m\u001b[38;5;124mmode\u001b[39m\u001b[38;5;124m'\u001b[39m\u001b[38;5;124m should be one of \u001b[39m\u001b[38;5;124m'\u001b[39m\u001b[38;5;124mw\u001b[39m\u001b[38;5;124m'\u001b[39m\u001b[38;5;124m or \u001b[39m\u001b[38;5;124m'\u001b[39m\u001b[38;5;124ma\u001b[39m\u001b[38;5;124m'\u001b[39m\u001b[38;5;124m, got \u001b[39m\u001b[38;5;124m'\u001b[39m\u001b[38;5;132;01m{\u001b[39;00mmode\u001b[38;5;132;01m}\u001b[39;00m\u001b[38;5;124m'\u001b[39m\u001b[38;5;124m instead\u001b[39m\u001b[38;5;124m\"\u001b[39m)\n\u001b[1;32m    632\u001b[0m \u001b[38;5;28;01mif\u001b[39;00m engine \u001b[38;5;241m==\u001b[39m \u001b[38;5;124m\"\u001b[39m\u001b[38;5;124mfiona\u001b[39m\u001b[38;5;124m\"\u001b[39m:\n\u001b[0;32m--> 633\u001b[0m     _to_file_fiona(df, filename, driver, schema, crs, mode, \u001b[38;5;241m*\u001b[39m\u001b[38;5;241m*\u001b[39mkwargs)\n\u001b[1;32m    634\u001b[0m \u001b[38;5;28;01melif\u001b[39;00m engine \u001b[38;5;241m==\u001b[39m \u001b[38;5;124m\"\u001b[39m\u001b[38;5;124mpyogrio\u001b[39m\u001b[38;5;124m\"\u001b[39m:\n\u001b[1;32m    635\u001b[0m     _to_file_pyogrio(df, filename, driver, schema, crs, mode, \u001b[38;5;241m*\u001b[39m\u001b[38;5;241m*\u001b[39mkwargs)\n",
      "File \u001b[0;32m~/anaconda3/lib/python3.11/site-packages/geopandas/io/file.py:661\u001b[0m, in \u001b[0;36m_to_file_fiona\u001b[0;34m(df, filename, driver, schema, crs, mode, **kwargs)\u001b[0m\n\u001b[1;32m    659\u001b[0m \u001b[38;5;28;01melif\u001b[39;00m crs:\n\u001b[1;32m    660\u001b[0m     crs_wkt \u001b[38;5;241m=\u001b[39m crs\u001b[38;5;241m.\u001b[39mto_wkt(\u001b[38;5;124m\"\u001b[39m\u001b[38;5;124mWKT1_GDAL\u001b[39m\u001b[38;5;124m\"\u001b[39m)\n\u001b[0;32m--> 661\u001b[0m \u001b[38;5;28;01mwith\u001b[39;00m fiona\u001b[38;5;241m.\u001b[39mopen(\n\u001b[1;32m    662\u001b[0m     filename, mode\u001b[38;5;241m=\u001b[39mmode, driver\u001b[38;5;241m=\u001b[39mdriver, crs_wkt\u001b[38;5;241m=\u001b[39mcrs_wkt, schema\u001b[38;5;241m=\u001b[39mschema, \u001b[38;5;241m*\u001b[39m\u001b[38;5;241m*\u001b[39mkwargs\n\u001b[1;32m    663\u001b[0m ) \u001b[38;5;28;01mas\u001b[39;00m colxn:\n\u001b[1;32m    664\u001b[0m     colxn\u001b[38;5;241m.\u001b[39mwriterecords(df\u001b[38;5;241m.\u001b[39miterfeatures())\n",
      "File \u001b[0;32m~/anaconda3/lib/python3.11/site-packages/fiona/env.py:457\u001b[0m, in \u001b[0;36mensure_env_with_credentials.<locals>.wrapper\u001b[0;34m(*args, **kwds)\u001b[0m\n\u001b[1;32m    454\u001b[0m     session \u001b[38;5;241m=\u001b[39m DummySession()\n\u001b[1;32m    456\u001b[0m \u001b[38;5;28;01mwith\u001b[39;00m env_ctor(session\u001b[38;5;241m=\u001b[39msession):\n\u001b[0;32m--> 457\u001b[0m     \u001b[38;5;28;01mreturn\u001b[39;00m f(\u001b[38;5;241m*\u001b[39margs, \u001b[38;5;241m*\u001b[39m\u001b[38;5;241m*\u001b[39mkwds)\n",
      "File \u001b[0;32m~/anaconda3/lib/python3.11/site-packages/fiona/__init__.py:303\u001b[0m, in \u001b[0;36mopen\u001b[0;34m(fp, mode, driver, schema, crs, encoding, layer, vfs, enabled_drivers, crs_wkt, allow_unsupported_drivers, **kwargs)\u001b[0m\n\u001b[1;32m    292\u001b[0m     colxn \u001b[38;5;241m=\u001b[39m Collection(\n\u001b[1;32m    293\u001b[0m         path,\n\u001b[1;32m    294\u001b[0m         mode,\n\u001b[0;32m   (...)\u001b[0m\n\u001b[1;32m    300\u001b[0m         \u001b[38;5;241m*\u001b[39m\u001b[38;5;241m*\u001b[39mkwargs\n\u001b[1;32m    301\u001b[0m     )\n\u001b[1;32m    302\u001b[0m \u001b[38;5;28;01melif\u001b[39;00m mode \u001b[38;5;241m==\u001b[39m \u001b[38;5;124m\"\u001b[39m\u001b[38;5;124mw\u001b[39m\u001b[38;5;124m\"\u001b[39m:\n\u001b[0;32m--> 303\u001b[0m     colxn \u001b[38;5;241m=\u001b[39m Collection(\n\u001b[1;32m    304\u001b[0m         path,\n\u001b[1;32m    305\u001b[0m         mode,\n\u001b[1;32m    306\u001b[0m         crs\u001b[38;5;241m=\u001b[39mcrs,\n\u001b[1;32m    307\u001b[0m         driver\u001b[38;5;241m=\u001b[39mdriver,\n\u001b[1;32m    308\u001b[0m         schema\u001b[38;5;241m=\u001b[39mschema,\n\u001b[1;32m    309\u001b[0m         encoding\u001b[38;5;241m=\u001b[39mencoding,\n\u001b[1;32m    310\u001b[0m         layer\u001b[38;5;241m=\u001b[39mlayer,\n\u001b[1;32m    311\u001b[0m         enabled_drivers\u001b[38;5;241m=\u001b[39menabled_drivers,\n\u001b[1;32m    312\u001b[0m         crs_wkt\u001b[38;5;241m=\u001b[39mcrs_wkt,\n\u001b[1;32m    313\u001b[0m         allow_unsupported_drivers\u001b[38;5;241m=\u001b[39mallow_unsupported_drivers,\n\u001b[1;32m    314\u001b[0m         \u001b[38;5;241m*\u001b[39m\u001b[38;5;241m*\u001b[39mkwargs\n\u001b[1;32m    315\u001b[0m     )\n\u001b[1;32m    316\u001b[0m \u001b[38;5;28;01melse\u001b[39;00m:\n\u001b[1;32m    317\u001b[0m     \u001b[38;5;28;01mraise\u001b[39;00m \u001b[38;5;167;01mValueError\u001b[39;00m(\u001b[38;5;124m\"\u001b[39m\u001b[38;5;124mmode string must be one of \u001b[39m\u001b[38;5;124m{\u001b[39m\u001b[38;5;124m'\u001b[39m\u001b[38;5;124mr\u001b[39m\u001b[38;5;124m'\u001b[39m\u001b[38;5;124m, \u001b[39m\u001b[38;5;124m'\u001b[39m\u001b[38;5;124mw\u001b[39m\u001b[38;5;124m'\u001b[39m\u001b[38;5;124m, \u001b[39m\u001b[38;5;124m'\u001b[39m\u001b[38;5;124ma\u001b[39m\u001b[38;5;124m'\u001b[39m\u001b[38;5;124m}\u001b[39m\u001b[38;5;124m\"\u001b[39m)\n",
      "File \u001b[0;32m~/anaconda3/lib/python3.11/site-packages/fiona/collection.py:246\u001b[0m, in \u001b[0;36mCollection.__init__\u001b[0;34m(self, path, mode, driver, schema, crs, encoding, layer, vsi, archive, enabled_drivers, crs_wkt, ignore_fields, ignore_geometry, include_fields, wkt_version, allow_unsupported_drivers, **kwargs)\u001b[0m\n\u001b[1;32m    244\u001b[0m     \u001b[38;5;28;01melif\u001b[39;00m \u001b[38;5;28mself\u001b[39m\u001b[38;5;241m.\u001b[39mmode \u001b[38;5;129;01min\u001b[39;00m (\u001b[38;5;124m\"\u001b[39m\u001b[38;5;124ma\u001b[39m\u001b[38;5;124m\"\u001b[39m, \u001b[38;5;124m\"\u001b[39m\u001b[38;5;124mw\u001b[39m\u001b[38;5;124m\"\u001b[39m):\n\u001b[1;32m    245\u001b[0m         \u001b[38;5;28mself\u001b[39m\u001b[38;5;241m.\u001b[39msession \u001b[38;5;241m=\u001b[39m WritingSession()\n\u001b[0;32m--> 246\u001b[0m         \u001b[38;5;28mself\u001b[39m\u001b[38;5;241m.\u001b[39msession\u001b[38;5;241m.\u001b[39mstart(\u001b[38;5;28mself\u001b[39m, \u001b[38;5;241m*\u001b[39m\u001b[38;5;241m*\u001b[39mkwargs)\n\u001b[1;32m    247\u001b[0m \u001b[38;5;28;01mexcept\u001b[39;00m \u001b[38;5;167;01mOSError\u001b[39;00m:\n\u001b[1;32m    248\u001b[0m     \u001b[38;5;28mself\u001b[39m\u001b[38;5;241m.\u001b[39msession \u001b[38;5;241m=\u001b[39m \u001b[38;5;28;01mNone\u001b[39;00m\n",
      "File \u001b[0;32mfiona/ogrext.pyx:1110\u001b[0m, in \u001b[0;36mfiona.ogrext.WritingSession.start\u001b[0;34m()\u001b[0m\n",
      "File \u001b[0;32mfiona/ogrext.pyx:1111\u001b[0m, in \u001b[0;36mfiona.ogrext.WritingSession.start\u001b[0;34m()\u001b[0m\n",
      "File \u001b[0;32mfiona/ogrext.pyx:179\u001b[0m, in \u001b[0;36mfiona.ogrext.gdal_create\u001b[0;34m()\u001b[0m\n",
      "\u001b[0;31mDriverError\u001b[0m: Failed to create GeoJSON datasource: data/geo_data/simplified_geo_data_2000.geojson: data/geo_data/simplified_geo_data_2000.geojson: No such file or directory"
     ]
    }
   ],
   "source": [
    "import geopandas as gpd\n",
    "\n",
    "# 模拟已有的数据\n",
    "data = {\n",
    "    'country': ['Country1', 'Country1', 'Country2', 'Country2'],\n",
    "    'year': ['2000', '2001', '2000', '2001'],\n",
    "    'CO2 emissions per capita': [1.5, 1.6, 2.1, 2.2],\n",
    "    'geometry': [Polygon([(0, 0), (1, 0), (1, 1)]), Polygon([(0, 0), (1, 0), (1, 1)]), Polygon([(0, 0), (1, 0), (1, 1)]), Polygon([(0, 0), (1, 0), (1, 1)])]\n",
    "}\n",
    "\n",
    "# 转换为GeoDataFrame\n",
    "gdf = gpd.GeoDataFrame(data)\n",
    "\n",
    "# 分割GeoJSON\n",
    "for year in gdf['year'].unique():\n",
    "    # 筛选特定年份的数据\n",
    "    year_gdf = gdf[gdf['year'] == year]\n",
    "    \n",
    "    # 导出为GeoJSON\n",
    "    file_name = f\"data/geo_data/simplified_geo_data_{year}.geojson\"\n",
    "    year_gdf.to_file(file_name, driver='GeoJSON')\n",
    "\n",
    "    print(f\"Exported {file_name}\")\n"
   ]
  },
  {
   "cell_type": "code",
   "execution_count": null,
   "id": "e2fd387d-1df1-49ce-b099-8029ee7442a6",
   "metadata": {},
   "outputs": [],
   "source": []
  }
 ],
 "metadata": {
  "kernelspec": {
   "display_name": "Python 3 (ipykernel)",
   "language": "python",
   "name": "python3"
  },
  "language_info": {
   "codemirror_mode": {
    "name": "ipython",
    "version": 3
   },
   "file_extension": ".py",
   "mimetype": "text/x-python",
   "name": "python",
   "nbconvert_exporter": "python",
   "pygments_lexer": "ipython3",
   "version": "3.11.5"
  }
 },
 "nbformat": 4,
 "nbformat_minor": 5
}
