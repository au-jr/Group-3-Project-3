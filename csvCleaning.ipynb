{
 "cells": [
  {
   "cell_type": "code",
   "execution_count": 347,
   "metadata": {},
   "outputs": [],
   "source": [
    "import pandas as pd\n",
    "import numpy as np\n",
    "import re"
   ]
  },
  {
   "cell_type": "code",
   "execution_count": 348,
   "metadata": {},
   "outputs": [],
   "source": [
    "yearsToCheck = list((np.arange(2000, 2020, 1)).astype(str))\n",
    "developedCountries = ['Australia','Japan','Sweden','Switzerland','USA']\n",
    "developingCountries = ['Brazil','Egypt','Greece','India','South Africa']\n",
    "underdevelopedCountries = ['Afghanistan','Bangladesh','Cambodia','Ethiopia','Senegal']"
   ]
  },
  {
   "cell_type": "code",
   "execution_count": 349,
   "metadata": {},
   "outputs": [],
   "source": [
    "populationCsvPath = 'data/raw_data/pop.csv'\n",
    "readPopCsv = pd.read_csv(populationCsvPath)\n",
    "populationDataFrame = (pd.DataFrame(readPopCsv).set_index('country'))[yearsToCheck]\n",
    "\n",
    "developed_populationDataFrame = populationDataFrame.loc[developedCountries]\n",
    "developing_populationDataFrame = populationDataFrame.loc[developingCountries]\n",
    "underdeveloped_populationDataFrame = populationDataFrame.loc[underdevelopedCountries]\n",
    "\n",
    "df = [developed_populationDataFrame, underdeveloped_populationDataFrame, developing_populationDataFrame]\n",
    "\n",
    "for j in df:\n",
    "    for i in yearsToCheck:\n",
    "        for index, value in enumerate(j[i]):\n",
    "            j[i][index] = j[i][index].replace('.', '')\n",
    "            j[i][index] = j[i][index].replace('M', '000000')\n",
    "            j[i][index] = j[i][index].replace('B', '000000000')\n",
    "            j[i][index] = int(j[i][index])\n",
    "\n",
    "\n",
    "developed_populationDataFrame.to_csv('data/clean_data/population/csv/developed_population.csv')\n",
    "developing_populationDataFrame.to_csv('data/clean_data/population/csv/developing_population.csv')\n",
    "underdeveloped_populationDataFrame.to_csv('data/clean_data/population/csv/underveloped_population.csv')\n",
    "\n",
    "developed_populationDataFrame.to_json('data/clean_data/population/json/developed_population.json')\n",
    "developing_populationDataFrame.to_json('data/clean_data/population/json/developing_population.json')\n",
    "underdeveloped_populationDataFrame.to_json('data/clean_data/population/json/underveloped_population.json')"
   ]
  },
  {
   "cell_type": "code",
   "execution_count": 350,
   "metadata": {},
   "outputs": [],
   "source": [
    "gdpUSDPath = 'data/raw_data/total_gdp_us_inflation_adjusted.csv'\n",
    "readGdpUSDCsv = pd.read_csv(gdpUSDPath)\n",
    "GdpDataFrame = (pd.DataFrame(readGdpUSDCsv).set_index('country'))[yearsToCheck]\n",
    "\n",
    "developed_GdpDataFrame = GdpDataFrame.loc[developedCountries]\n",
    "developing_GdpDataFrame = GdpDataFrame.loc[developingCountries]\n",
    "underdeveloped_GdpDataFrame = GdpDataFrame.loc[underdevelopedCountries]\n",
    "\n",
    "developed_GdpDataFrame.to_csv('data/clean_data/gdpUSD/csv/developed_gdp.csv')\n",
    "developing_GdpDataFrame.to_csv('data/clean_data/gdpUSD/csv/developing_gdp.csv')\n",
    "underdeveloped_GdpDataFrame.to_csv('data/clean_data/gdpUSD/csv/underdeveloped_gdp.csv')\n",
    "\n",
    "developed_GdpDataFrame.to_json('data/clean_data/gdpUSD/json/developed_gdp.json')\n",
    "developing_GdpDataFrame.to_json('data/clean_data/gdpUSD/json/developing_gdp.json')\n",
    "underdeveloped_GdpDataFrame.to_json('data/clean_data/gdpUSD/json/underdeveloped_gdp.json')"
   ]
  },
  {
   "cell_type": "code",
   "execution_count": 351,
   "metadata": {},
   "outputs": [],
   "source": [
    "avgDailyIncPpPath = 'data/raw_data/mincpcap_cppp.csv'\n",
    "readvgDailyIncCsv = pd.read_csv(avgDailyIncPpPath)\n",
    "avgDailyIncPpDataFrame = (pd.DataFrame(readvgDailyIncCsv).set_index('country'))[yearsToCheck]\n",
    "\n",
    "developed_avgDailyIncPpDataFrame = avgDailyIncPpDataFrame.loc[developedCountries]\n",
    "developing_avgDailyIncPpDataFrame = avgDailyIncPpDataFrame.loc[developingCountries]\n",
    "underdeveloped_avgDailyIncPpDataFrame = avgDailyIncPpDataFrame.loc[underdevelopedCountries]\n",
    "\n",
    "developed_avgDailyIncPpDataFrame.to_csv('data/clean_data/averageIncomePerPerson/csv/developed_average_daily_income.csv')\n",
    "developing_avgDailyIncPpDataFrame.to_csv('data/clean_data/averageIncomePerPerson/csv/developing_average_daily_income.csv')\n",
    "underdeveloped_avgDailyIncPpDataFrame.to_csv('data/clean_data/averageIncomePerPerson/csv/underdeveloped_average_daily_income.csv')\n",
    "\n",
    "developed_avgDailyIncPpDataFrame.to_json('data/clean_data/averageIncomePerPerson/json/developed_average_daily_income.json')\n",
    "developing_avgDailyIncPpDataFrame.to_json('data/clean_data/averageIncomePerPerson/json/developing_average_daily_income.json')\n",
    "underdeveloped_avgDailyIncPpDataFrame.to_json('data/clean_data/averageIncomePerPerson/json/underdeveloped_average_daily_income.json')"
   ]
  },
  {
   "cell_type": "code",
   "execution_count": 352,
   "metadata": {},
   "outputs": [],
   "source": [
    "# This is in tonnes\n",
    "co2PerCapPath = 'data/raw_data/co2_pcap_cons.csv'\n",
    "readco2PerCapCsv = pd.read_csv(co2PerCapPath)\n",
    "co2PerCapDataFrame = (pd.DataFrame(readco2PerCapCsv).set_index('country'))[yearsToCheck]\n",
    "\n",
    "developed_co2PerCapDataFrame = co2PerCapDataFrame.loc[developedCountries]\n",
    "developing_co2PerCapDataFrame = co2PerCapDataFrame.loc[developingCountries]\n",
    "underdeveloped_co2PerCapDataFrame = co2PerCapDataFrame.loc[underdevelopedCountries]\n",
    "\n",
    "developed_co2PerCapDataFrame.to_csv('data/clean_data/co2PerCapitaConsumption/csv/developed_co2_per_capita.csv')\n",
    "developing_co2PerCapDataFrame.to_csv('data/clean_data/co2PerCapitaConsumption/csv/developing_co2_per_capita.csv')\n",
    "underdeveloped_co2PerCapDataFrame.to_csv('data/clean_data/co2PerCapitaConsumption/csv/underdeveloped_co2_per_capita.csv')\n",
    "\n",
    "developed_co2PerCapDataFrame.to_json('data/clean_data/co2PerCapitaConsumption/json/developed_co2_per_capita.json')\n",
    "developing_co2PerCapDataFrame.to_json('data/clean_data/co2PerCapitaConsumption/json/developing_co2_per_capita.json')\n",
    "underdeveloped_co2PerCapDataFrame.to_json('data/clean_data/co2PerCapitaConsumption/json/underdeveloped_co2_per_capita.json')"
   ]
  },
  {
   "cell_type": "code",
   "execution_count": 353,
   "metadata": {},
   "outputs": [],
   "source": [
    "# This is in million tonnes\n",
    "co2TotalEmissionsPath = 'data/raw_data/co2_cons.csv'\n",
    "readco2TotalEmissionCsv = pd.read_csv(co2TotalEmissionsPath)\n",
    "co2TotalEmissionsDataFrame = (pd.DataFrame(readco2TotalEmissionCsv).set_index('country'))[yearsToCheck]\n",
    "\n",
    "developed_co2TotalEmissionsDataFrame = co2TotalEmissionsDataFrame.loc[developedCountries]\n",
    "developing_co2TotalEmissionsDataFrame = co2TotalEmissionsDataFrame.loc[developingCountries]\n",
    "underdeveloped_co2TotalEmissionsDataFrame = co2TotalEmissionsDataFrame.loc[underdevelopedCountries]\n",
    "\n",
    "developed_co2TotalEmissionsDataFrame.to_csv('data/clean_data/co2EmissionsTotal/csv/developed_co2_total_emissions.csv')\n",
    "developing_co2TotalEmissionsDataFrame.to_csv('data/clean_data/co2EmissionsTotal/csv/developing_co2_total_emissions.csv')\n",
    "underdeveloped_co2TotalEmissionsDataFrame.to_csv('data/clean_data/co2EmissionsTotal/csv/underdeveloped_co2_total_emissions.csv')\n",
    "\n",
    "developed_co2TotalEmissionsDataFrame.to_json('data/clean_data/co2EmissionsTotal/json/developed_co2_total_emissions.json')\n",
    "developing_co2TotalEmissionsDataFrame.to_json('data/clean_data/co2EmissionsTotal/json/developing_co2_total_emissions.json')\n",
    "underdeveloped_co2TotalEmissionsDataFrame.to_json('data/clean_data/co2EmissionsTotal/json/underdeveloped_co2_total_emissions.json')"
   ]
  }
 ],
 "metadata": {
  "kernelspec": {
   "display_name": "dev0",
   "language": "python",
   "name": "python3"
  },
  "language_info": {
   "codemirror_mode": {
    "name": "ipython",
    "version": 3
   },
   "file_extension": ".py",
   "mimetype": "text/x-python",
   "name": "python",
   "nbconvert_exporter": "python",
   "pygments_lexer": "ipython3",
   "version": "3.7.13"
  }
 },
 "nbformat": 4,
 "nbformat_minor": 2
}
